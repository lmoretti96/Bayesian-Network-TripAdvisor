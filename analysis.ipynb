{
 "cells": [
  {
   "cell_type": "code",
   "execution_count": 1,
   "metadata": {},
   "outputs": [
    {
     "name": "stderr",
     "output_type": "stream",
     "text": [
      "[nltk_data] Downloading package averaged_perceptron_tagger to\n",
      "[nltk_data]     /Users/th3g3ntl3man/nltk_data...\n",
      "[nltk_data]   Package averaged_perceptron_tagger is already up-to-\n",
      "[nltk_data]       date!\n"
     ]
    },
    {
     "data": {
      "text/plain": [
       "True"
      ]
     },
     "execution_count": 1,
     "metadata": {},
     "output_type": "execute_result"
    }
   ],
   "source": [
    "import nltk\n",
    "import string\n",
    "import itertools\n",
    "import contractions\n",
    "import pandas as pd \n",
    "from nltk.tag import *\n",
    "from afinn import Afinn\n",
    "from collections import Counter\n",
    "from nltk.corpus import stopwords\n",
    "from nltk.tokenize import word_tokenize\n",
    "nltk.download('averaged_perceptron_tagger')"
   ]
  },
  {
   "cell_type": "code",
   "execution_count": 2,
   "metadata": {},
   "outputs": [
    {
     "name": "stdout",
     "output_type": "stream",
     "text": [
      "True\n"
     ]
    }
   ],
   "source": [
    "review = pd.read_csv('contents_only.csv', header=None, names=['Text']).apply(lambda x: x.astype(str).str.lower())\n",
    "text = review['Text']\n",
    "\n",
    "clearText = []\n",
    "for line in text:\n",
    "    clearText.append(contractions.fix(line))\n",
    "\n",
    "review['clearText'] = clearText\n",
    "\n",
    "print(len(text) == len(clearText))"
   ]
  },
  {
   "cell_type": "code",
   "execution_count": 3,
   "metadata": {},
   "outputs": [
    {
     "name": "stdout",
     "output_type": "stream",
     "text": [
      "0    [the, most, amazing, hotel, ever, my, husband,...\n",
      "1    [great, hotel, ,, location, just, returned, fr...\n",
      "2    [loved, the, location, a, beautiful, ,, elegan...\n",
      "3    [the, only, place, to, stay, in, florence, !, ...\n",
      "4    [absolutly, high-class, one, of, the, best, ho...\n",
      "Name: token, dtype: object\n"
     ]
    }
   ],
   "source": [
    "review['token'] = review.apply(lambda row: word_tokenize(row['clearText']), axis=1)\n",
    "clearTokenText = review['token']\n",
    "\n",
    "print(clearTokenText.head())"
   ]
  },
  {
   "cell_type": "code",
   "execution_count": 4,
   "metadata": {},
   "outputs": [],
   "source": [
    "stopwords = stopwords.words('english')\n",
    "textTokenStopwords = clearTokenText.apply(lambda x: [item for item in x if item not in stopwords])\n",
    "sentence = (list(itertools.chain(textTokenStopwords)))\n",
    "\n",
    "punctuation = string.punctuation\n",
    "textTokenStopwordsPunctuation = textTokenStopwords.apply(lambda x: [item for item in x if item not in punctuation])\n",
    "sentence = (list(itertools.chain(textTokenStopwordsPunctuation)))"
   ]
  },
  {
   "cell_type": "code",
   "execution_count": 5,
   "metadata": {},
   "outputs": [],
   "source": [
    "wordList = [item for _list in sentence for item in _list]\n",
    "\n",
    "mostCommonWord = pos_tag(wordList)\n",
    "adjectives = [word for word, pos in mostCommonWord if pos == 'JJ']\n",
    "wordList = [item for item in adjectives]\n",
    "counter = Counter(wordList)"
   ]
  },
  {
   "cell_type": "code",
   "execution_count": 21,
   "metadata": {},
   "outputs": [
    {
     "name": "stdout",
     "output_type": "stream",
     "text": [
      "<class 'list'>\n",
      "{'great': 3.0, 'good': 3.0, 'nice': 3.0, 'clean': 2.0, 'excellent': 3.0, 'helpful': 2.0, 'comfortable': 2.0, 'beautiful': 3.0, 'wonderful': 4.0, 'friendly': 2.0, 'fantastic': 4.0, 'bad': -3.0}\n",
      "12\n"
     ]
    }
   ],
   "source": [
    "afinn = Afinn()\n",
    "mostCommon = counter.most_common(30)\n",
    "word = [x[0] for x in mostCommon]\n",
    "\n",
    "print(type(word))\n",
    "wordScore = dict()\n",
    "for p in word: \n",
    "    wordScore[p] = afinn.score(p)\n",
    "\n",
    "wordScore = {key:val for key, val in wordScore.items() if val != 0 and val != 1}\n",
    "print(wordScore)\n",
    "print(len(wordScore))"
   ]
  },
  {
   "cell_type": "code",
   "execution_count": null,
   "metadata": {},
   "outputs": [],
   "source": []
  }
 ],
 "metadata": {
  "kernelspec": {
   "display_name": "Python 3",
   "language": "python",
   "name": "python3"
  },
  "language_info": {
   "codemirror_mode": {
    "name": "ipython",
    "version": 3
   },
   "file_extension": ".py",
   "mimetype": "text/x-python",
   "name": "python",
   "nbconvert_exporter": "python",
   "pygments_lexer": "ipython3",
   "version": "3.7.3"
  }
 },
 "nbformat": 4,
 "nbformat_minor": 2
}
